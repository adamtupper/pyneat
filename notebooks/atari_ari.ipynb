{
 "cells": [
  {
   "cell_type": "markdown",
   "metadata": {},
   "source": [
    "# Testing the Atari Annotated RAM Interface (AtariARI)"
   ]
  },
  {
   "cell_type": "markdown",
   "metadata": {},
   "source": [
    "## Setup"
   ]
  },
  {
   "cell_type": "code",
   "execution_count": 20,
   "metadata": {},
   "outputs": [],
   "source": [
    "import gym\n",
    "from atariari.benchmark.wrapper import AtariARIWrapper\n",
    "import numpy as np\n",
    "import matplotlib.pyplot as plt"
   ]
  },
  {
   "cell_type": "markdown",
   "metadata": {},
   "source": [
    "## Pong"
   ]
  },
  {
   "cell_type": "code",
   "execution_count": 76,
   "metadata": {},
   "outputs": [],
   "source": [
    "env = AtariARIWrapper(gym.make('PongNoFrameskip-v4'))\n",
    "obs = env.reset()\n",
    "obs, reward, done, info = env.step(env.action_space.sample())"
   ]
  },
  {
   "cell_type": "code",
   "execution_count": 77,
   "metadata": {},
   "outputs": [
    {
     "data": {
      "text/plain": [
       "{'ale.lives': 0,\n",
       " 'labels': {'player_y': 109,\n",
       "  'player_x': 188,\n",
       "  'enemy_y': 20,\n",
       "  'enemy_x': 64,\n",
       "  'ball_x': 0,\n",
       "  'ball_y': 0,\n",
       "  'enemy_score': 0,\n",
       "  'player_score': 0}}"
      ]
     },
     "execution_count": 77,
     "metadata": {},
     "output_type": "execute_result"
    }
   ],
   "source": [
    "info"
   ]
  },
  {
   "cell_type": "code",
   "execution_count": 78,
   "metadata": {},
   "outputs": [
    {
     "data": {
      "text/plain": [
       "['NOOP', 'FIRE', 'RIGHT', 'LEFT', 'RIGHTFIRE', 'LEFTFIRE']"
      ]
     },
     "execution_count": 78,
     "metadata": {},
     "output_type": "execute_result"
    }
   ],
   "source": [
    "env.unwrapped.get_action_meanings()"
   ]
  },
  {
   "cell_type": "code",
   "execution_count": 79,
   "metadata": {},
   "outputs": [
    {
     "data": {
      "image/png": "[encoded data removed]",
      "text/plain": [
       "<Figure size 432x288 with 1 Axes>"
      ]
     },
     "metadata": {
      "needs_background": "light"
     },
     "output_type": "display_data"
    }
   ],
   "source": [
    "plt.imshow(obs)\n",
    "plt.show()"
   ]
  },
  {
   "cell_type": "markdown",
   "metadata": {},
   "source": [
    "## Breakout"
   ]
  },
  {
   "cell_type": "code",
   "execution_count": 60,
   "metadata": {},
   "outputs": [],
   "source": [
    "env = AtariARIWrapper(gym.make('BreakoutNoFrameskip-v4'))\n",
    "obs = env.reset()\n",
    "obs, reward, done, info = env.step(env.action_space.sample())"
   ]
  },
  {
   "cell_type": "code",
   "execution_count": 61,
   "metadata": {},
   "outputs": [
    {
     "data": {
      "text/plain": [
       "{'ale.lives': 5,\n",
       " 'labels': {'ball_x': 127,\n",
       "  'ball_y': 113,\n",
       "  'player_x': 146,\n",
       "  'blocks_hit_count': 0,\n",
       "  'score': 0,\n",
       "  'block_bit_map_0': 63,\n",
       "  'block_bit_map_1': 63,\n",
       "  'block_bit_map_2': 63,\n",
       "  'block_bit_map_3': 63,\n",
       "  'block_bit_map_4': 63,\n",
       "  'block_bit_map_5': 63,\n",
       "  'block_bit_map_6': 255,\n",
       "  'block_bit_map_7': 255,\n",
       "  'block_bit_map_8': 255,\n",
       "  'block_bit_map_9': 255,\n",
       "  'block_bit_map_10': 255,\n",
       "  'block_bit_map_11': 255,\n",
       "  'block_bit_map_12': 255,\n",
       "  'block_bit_map_13': 255,\n",
       "  'block_bit_map_14': 255,\n",
       "  'block_bit_map_15': 255,\n",
       "  'block_bit_map_16': 255,\n",
       "  'block_bit_map_17': 255,\n",
       "  'block_bit_map_18': 255,\n",
       "  'block_bit_map_19': 255,\n",
       "  'block_bit_map_20': 255,\n",
       "  'block_bit_map_21': 255,\n",
       "  'block_bit_map_22': 255,\n",
       "  'block_bit_map_23': 255,\n",
       "  'block_bit_map_24': 255,\n",
       "  'block_bit_map_25': 255,\n",
       "  'block_bit_map_26': 255,\n",
       "  'block_bit_map_27': 255,\n",
       "  'block_bit_map_28': 255,\n",
       "  'block_bit_map_29': 255}}"
      ]
     },
     "execution_count": 61,
     "metadata": {},
     "output_type": "execute_result"
    }
   ],
   "source": [
    "info"
   ]
  },
  {
   "cell_type": "code",
   "execution_count": 62,
   "metadata": {},
   "outputs": [
    {
     "data": {
      "text/plain": [
       "['NOOP', 'FIRE', 'RIGHT', 'LEFT']"
      ]
     },
     "execution_count": 62,
     "metadata": {},
     "output_type": "execute_result"
    }
   ],
   "source": [
    "env.unwrapped.get_action_meanings()"
   ]
  },
  {
   "cell_type": "code",
   "execution_count": null,
   "metadata": {},
   "outputs": [],
   "source": []
  }
 ],
 "metadata": {
  "kernelspec": {
   "display_name": "Python 3",
   "language": "python",
   "name": "python3"
  },
  "language_info": {
   "codemirror_mode": {
    "name": "ipython",
    "version": 3
   },
   "file_extension": ".py",
   "mimetype": "text/x-python",
   "name": "python",
   "nbconvert_exporter": "python",
   "pygments_lexer": "ipython3",
   "version": "3.6.9"
  }
 },
 "nbformat": 4,
 "nbformat_minor": 2
}
