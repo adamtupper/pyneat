{
 "cells": [
  {
   "cell_type": "markdown",
   "metadata": {},
   "source": [
    "# Testing the Atari Annotated RAM Interface (AtariARI)"
   ]
  },
  {
   "cell_type": "markdown",
   "metadata": {},
   "source": [
    "## Setup"
   ]
  },
  {
   "cell_type": "code",
   "execution_count": 47,
   "metadata": {},
   "outputs": [],
   "source": [
    "import pprint\n",
    "\n",
    "import gym\n",
    "from atariari.benchmark.wrapper import AtariARIWrapper\n",
    "import numpy as np\n",
    "import matplotlib.pyplot as plt"
   ]
  },
  {
   "cell_type": "markdown",
   "metadata": {},
   "source": [
    "## Get Number of Inputs for each Supported Game"
   ]
  },
  {
   "cell_type": "code",
   "execution_count": 6,
   "metadata": {},
   "outputs": [],
   "source": [
    "envs = [\n",
    "    'Asteroids-v4',\n",
    "    'Berzerk-v4',\n",
    "    'Bowling-v4',\n",
    "    'Boxing-v4',\n",
    "    'Breakout-v4',\n",
    "    'DemonAttack-v4',\n",
    "    'Freeway-v4',\n",
    "    'Frostbite-v4',\n",
    "    'Hero-v4',\n",
    "    'MontezumaRevenge-v4',\n",
    "    'MsPacman-v4',\n",
    "    'Pitfall-v4',\n",
    "    'Pong-v4',\n",
    "    'PrivateEye-v4',\n",
    "    'Qbert-v4',\n",
    "    'Riverraid-v4',\n",
    "    'Seaquest-v4',\n",
    "    'SpaceInvaders-v4',\n",
    "    'Tennis-v4',\n",
    "    'Venture-v4',\n",
    "    'VideoPinball-v4',\n",
    "    'YarsRevenge-v4',\n",
    "]"
   ]
  },
  {
   "cell_type": "code",
   "execution_count": 7,
   "metadata": {},
   "outputs": [],
   "source": [
    "n_inputs = {}\n",
    "for env_name in envs:\n",
    "    env = AtariARIWrapper(gym.make(env_name))\n",
    "    obs = env.reset()\n",
    "    obs, reward, done, info = env.step(env.action_space.sample())\n",
    "    n_inputs[env_name] = len(info['labels'])"
   ]
  },
  {
   "cell_type": "code",
   "execution_count": 15,
   "metadata": {
    "scrolled": false
   },
   "outputs": [
    {
     "name": "stdout",
     "output_type": "stream",
     "text": [
      "Pitfall-v4           5\n",
      "Qbert-v4             5\n",
      "Riverraid-v4         5\n",
      "VideoPinball-v4      6\n",
      "Boxing-v4            7\n",
      "SpaceInvaders-v4     7\n",
      "Hero-v4              8\n",
      "Pong-v4              8\n",
      "Tennis-v4            8\n",
      "YarsRevenge-v4       8\n",
      "DemonAttack-v4       10\n",
      "PrivateEye-v4        10\n",
      "Freeway-v4           12\n",
      "MontezumaRevenge-v4  15\n",
      "Bowling-v4           16\n",
      "Frostbite-v4         17\n",
      "MsPacman-v4          17\n",
      "Seaquest-v4          18\n",
      "Venture-v4           18\n",
      "Berzerk-v4           34\n",
      "Breakout-v4          35\n",
      "Asteroids-v4         41\n"
     ]
    }
   ],
   "source": [
    "for env, n in sorted(n_inputs.items(), key=lambda x: x[1]):\n",
    "    print(f'{env:<20} {n}')"
   ]
  },
  {
   "cell_type": "markdown",
   "metadata": {},
   "source": [
    "## Investigate Inputs for Each Supported Game"
   ]
  },
  {
   "cell_type": "code",
   "execution_count": 51,
   "metadata": {
    "scrolled": false
   },
   "outputs": [
    {
     "name": "stdout",
     "output_type": "stream",
     "text": [
      "########## Pitfall-v4 ##########\n",
      "\n",
      "{'bottom_of_rope_y': 10,\n",
      " 'enemy_logs_x': 124,\n",
      " 'enemy_scorpion_x': 136,\n",
      " 'player_x': 16,\n",
      " 'player_y': 32}\n",
      "\n",
      "['NOOP',\n",
      " 'FIRE',\n",
      " 'UP',\n",
      " 'RIGHT',\n",
      " 'LEFT',\n",
      " 'DOWN',\n",
      " 'UPRIGHT',\n",
      " 'UPLEFT',\n",
      " 'DOWNRIGHT',\n",
      " 'DOWNLEFT',\n",
      " 'UPFIRE',\n",
      " 'RIGHTFIRE',\n",
      " 'LEFTFIRE',\n",
      " 'DOWNFIRE',\n",
      " 'UPRIGHTFIRE',\n",
      " 'UPLEFTFIRE',\n",
      " 'DOWNRIGHTFIRE',\n",
      " 'DOWNLEFTFIRE']\n",
      "\n",
      "########## Qbert-v4 ##########\n",
      "\n",
      "{'green_enemy_column': 1,\n",
      " 'player_column': 0,\n",
      " 'player_x': 0,\n",
      " 'player_y': 0,\n",
      " 'red_enemy_column': 0}\n",
      "\n",
      "['NOOP', 'FIRE', 'UP', 'RIGHT', 'LEFT', 'DOWN']\n",
      "\n",
      "########## Riverraid-v4 ##########\n",
      "\n",
      "{'fuel_meter_high': 255,\n",
      " 'fuel_meter_low': 255,\n",
      " 'missile_x': 0,\n",
      " 'missile_y': 180,\n",
      " 'player_x': 76}\n",
      "\n",
      "['NOOP',\n",
      " 'FIRE',\n",
      " 'UP',\n",
      " 'RIGHT',\n",
      " 'LEFT',\n",
      " 'DOWN',\n",
      " 'UPRIGHT',\n",
      " 'UPLEFT',\n",
      " 'DOWNRIGHT',\n",
      " 'DOWNLEFT',\n",
      " 'UPFIRE',\n",
      " 'RIGHTFIRE',\n",
      " 'LEFTFIRE',\n",
      " 'DOWNFIRE',\n",
      " 'UPRIGHTFIRE',\n",
      " 'UPLEFTFIRE',\n",
      " 'DOWNRIGHTFIRE',\n",
      " 'DOWNLEFTFIRE']\n",
      "\n",
      "########## VideoPinball-v4 ##########\n",
      "\n",
      "{'ball_x': 149,\n",
      " 'ball_y': 132,\n",
      " 'player_left_paddle_y': 32,\n",
      " 'player_right_paddle_y': 160,\n",
      " 'score_1': 0,\n",
      " 'score_2': 0}\n",
      "\n",
      "['NOOP',\n",
      " 'FIRE',\n",
      " 'UP',\n",
      " 'RIGHT',\n",
      " 'LEFT',\n",
      " 'DOWN',\n",
      " 'UPFIRE',\n",
      " 'RIGHTFIRE',\n",
      " 'LEFTFIRE']\n",
      "\n",
      "########## Boxing-v4 ##########\n",
      "\n",
      "{'clock': 89,\n",
      " 'enemy_score': 0,\n",
      " 'enemy_x': 108,\n",
      " 'enemy_y': 86,\n",
      " 'player_score': 0,\n",
      " 'player_x': 30,\n",
      " 'player_y': 5}\n",
      "\n",
      "['NOOP',\n",
      " 'FIRE',\n",
      " 'UP',\n",
      " 'RIGHT',\n",
      " 'LEFT',\n",
      " 'DOWN',\n",
      " 'UPRIGHT',\n",
      " 'UPLEFT',\n",
      " 'DOWNRIGHT',\n",
      " 'DOWNLEFT',\n",
      " 'UPFIRE',\n",
      " 'RIGHTFIRE',\n",
      " 'LEFTFIRE',\n",
      " 'DOWNFIRE',\n",
      " 'UPRIGHTFIRE',\n",
      " 'UPLEFTFIRE',\n",
      " 'DOWNRIGHTFIRE',\n",
      " 'DOWNLEFTFIRE']\n",
      "\n",
      "########## SpaceInvaders-v4 ##########\n",
      "\n",
      "{'enemies_x': 23,\n",
      " 'enemies_y': 82,\n",
      " 'invaders_left_count': 36,\n",
      " 'missiles_y': 13,\n",
      " 'num_lives': 254,\n",
      " 'player_score': 0,\n",
      " 'player_x': 35}\n",
      "\n",
      "['NOOP', 'FIRE', 'RIGHT', 'LEFT', 'RIGHTFIRE', 'LEFTFIRE']\n",
      "\n",
      "########## Hero-v4 ##########\n",
      "\n",
      "{'dynamite_count': 6,\n",
      " 'level_number': 0,\n",
      " 'player_x': 32,\n",
      " 'player_y': 137,\n",
      " 'power_meter': 0,\n",
      " 'room_number': 0,\n",
      " 'score_0': 0,\n",
      " 'score_1': 0}\n",
      "\n",
      "['NOOP',\n",
      " 'FIRE',\n",
      " 'UP',\n",
      " 'RIGHT',\n",
      " 'LEFT',\n",
      " 'DOWN',\n",
      " 'UPRIGHT',\n",
      " 'UPLEFT',\n",
      " 'DOWNRIGHT',\n",
      " 'DOWNLEFT',\n",
      " 'UPFIRE',\n",
      " 'RIGHTFIRE',\n",
      " 'LEFTFIRE',\n",
      " 'DOWNFIRE',\n",
      " 'UPRIGHTFIRE',\n",
      " 'UPLEFTFIRE',\n",
      " 'DOWNRIGHTFIRE',\n",
      " 'DOWNLEFTFIRE']\n",
      "\n",
      "########## Pong-v4 ##########\n",
      "\n",
      "{'ball_x': 0,\n",
      " 'ball_y': 0,\n",
      " 'enemy_score': 0,\n",
      " 'enemy_x': 64,\n",
      " 'enemy_y': 16,\n",
      " 'player_score': 0,\n",
      " 'player_x': 188,\n",
      " 'player_y': 109}\n",
      "\n",
      "['NOOP', 'FIRE', 'RIGHT', 'LEFT', 'RIGHTFIRE', 'LEFTFIRE']\n",
      "\n",
      "########## Tennis-v4 ##########\n",
      "\n",
      "{'ball_x': 77,\n",
      " 'ball_y': 7,\n",
      " 'enemy_score': 0,\n",
      " 'enemy_x': 75,\n",
      " 'enemy_y': 7,\n",
      " 'player_score': 0,\n",
      " 'player_x': 72,\n",
      " 'player_y': 142}\n",
      "\n",
      "['NOOP',\n",
      " 'FIRE',\n",
      " 'UP',\n",
      " 'RIGHT',\n",
      " 'LEFT',\n",
      " 'DOWN',\n",
      " 'UPRIGHT',\n",
      " 'UPLEFT',\n",
      " 'DOWNRIGHT',\n",
      " 'DOWNLEFT',\n",
      " 'UPFIRE',\n",
      " 'RIGHTFIRE',\n",
      " 'LEFTFIRE',\n",
      " 'DOWNFIRE',\n",
      " 'UPRIGHTFIRE',\n",
      " 'UPLEFTFIRE',\n",
      " 'DOWNRIGHTFIRE',\n",
      " 'DOWNLEFTFIRE']\n",
      "\n",
      "########## YarsRevenge-v4 ##########\n",
      "\n",
      "{'enemy_qotile_x': 150,\n",
      " 'enemy_qotile_y': 59,\n",
      " 'player_yar_x': 7,\n",
      " 'player_yar_y': 102,\n",
      " 'qotile_missile_x': 154,\n",
      " 'qotile_missile_y': 62,\n",
      " 'yar_missile_x': 9,\n",
      " 'yar_missile_y': 255}\n",
      "\n",
      "['NOOP',\n",
      " 'FIRE',\n",
      " 'UP',\n",
      " 'RIGHT',\n",
      " 'LEFT',\n",
      " 'DOWN',\n",
      " 'UPRIGHT',\n",
      " 'UPLEFT',\n",
      " 'DOWNRIGHT',\n",
      " 'DOWNLEFT',\n",
      " 'UPFIRE',\n",
      " 'RIGHTFIRE',\n",
      " 'LEFTFIRE',\n",
      " 'DOWNFIRE',\n",
      " 'UPRIGHTFIRE',\n",
      " 'UPLEFTFIRE',\n",
      " 'DOWNRIGHTFIRE',\n",
      " 'DOWNLEFTFIRE']\n",
      "\n",
      "########## DemonAttack-v4 ##########\n",
      "\n",
      "{'enemy_x1': 0,\n",
      " 'enemy_x2': 0,\n",
      " 'enemy_x3': 0,\n",
      " 'enemy_y1': 149,\n",
      " 'enemy_y2': 134,\n",
      " 'enemy_y3': 89,\n",
      " 'level': 0,\n",
      " 'missile_y': 9,\n",
      " 'num_lives': 3,\n",
      " 'player_x': 229}\n",
      "\n",
      "['NOOP', 'FIRE', 'RIGHT', 'LEFT', 'RIGHTFIRE', 'LEFTFIRE']\n",
      "\n",
      "########## PrivateEye-v4 ##########\n",
      "\n",
      "{'agent_x': 30,\n",
      " 'agent_y': 22,\n",
      " 'clock_0': 3,\n",
      " 'clock_1': 0,\n",
      " 'dove_x': 9,\n",
      " 'dove_y': 96,\n",
      " 'player_direction': 121,\n",
      " 'room_number': 0,\n",
      " 'score_0': 16,\n",
      " 'score_1': 0}\n",
      "\n",
      "['NOOP',\n",
      " 'FIRE',\n",
      " 'UP',\n",
      " 'RIGHT',\n",
      " 'LEFT',\n",
      " 'DOWN',\n",
      " 'UPRIGHT',\n",
      " 'UPLEFT',\n",
      " 'DOWNRIGHT',\n",
      " 'DOWNLEFT',\n",
      " 'UPFIRE',\n",
      " 'RIGHTFIRE',\n",
      " 'LEFTFIRE',\n",
      " 'DOWNFIRE',\n",
      " 'UPRIGHTFIRE',\n",
      " 'UPLEFTFIRE',\n",
      " 'DOWNRIGHTFIRE',\n",
      " 'DOWNLEFTFIRE']\n",
      "\n",
      "########## Freeway-v4 ##########\n",
      "\n",
      "{'enemy_car_x_0': 1,\n",
      " 'enemy_car_x_1': 1,\n",
      " 'enemy_car_x_2': 1,\n",
      " 'enemy_car_x_3': 1,\n",
      " 'enemy_car_x_4': 1,\n",
      " 'enemy_car_x_5': 158,\n",
      " 'enemy_car_x_6': 159,\n",
      " 'enemy_car_x_7': 159,\n",
      " 'enemy_car_x_8': 159,\n",
      " 'enemy_car_x_9': 159,\n",
      " 'player_y': 8,\n",
      " 'score': 0}\n",
      "\n",
      "['NOOP', 'UP', 'DOWN']\n",
      "\n",
      "########## MontezumaRevenge-v4 ##########\n",
      "\n",
      "{'enemy_skull_x': 57,\n",
      " 'enemy_skull_y': 240,\n",
      " 'items_in_inventory_count': 0,\n",
      " 'key_monster_x': 14,\n",
      " 'key_monster_y': 254,\n",
      " 'level': 0,\n",
      " 'num_lives': 5,\n",
      " 'player_direction': 128,\n",
      " 'player_x': 81,\n",
      " 'player_y': 235,\n",
      " 'room_number': 1,\n",
      " 'room_state': 8,\n",
      " 'score_0': 0,\n",
      " 'score_1': 0,\n",
      " 'score_2': 0}\n",
      "\n",
      "['NOOP',\n",
      " 'FIRE',\n",
      " 'UP',\n",
      " 'RIGHT',\n",
      " 'LEFT',\n",
      " 'DOWN',\n",
      " 'UPRIGHT',\n",
      " 'UPLEFT',\n",
      " 'DOWNRIGHT',\n",
      " 'DOWNLEFT',\n",
      " 'UPFIRE',\n",
      " 'RIGHTFIRE',\n",
      " 'LEFTFIRE',\n",
      " 'DOWNFIRE',\n",
      " 'UPRIGHTFIRE',\n",
      " 'UPLEFTFIRE',\n",
      " 'DOWNRIGHTFIRE',\n",
      " 'DOWNLEFTFIRE']\n",
      "\n",
      "########## Bowling-v4 ##########\n",
      "\n",
      "{'ball_x': 15,\n",
      " 'ball_y': 12,\n",
      " 'frame_number_display': 1,\n",
      " 'pin_existence_0': 7,\n",
      " 'pin_existence_1': 5,\n",
      " 'pin_existence_2': 5,\n",
      " 'pin_existence_3': 3,\n",
      " 'pin_existence_4': 3,\n",
      " 'pin_existence_5': 3,\n",
      " 'pin_existence_6': 1,\n",
      " 'pin_existence_7': 1,\n",
      " 'pin_existence_8': 1,\n",
      " 'pin_existence_9': 1,\n",
      " 'player_x': 8,\n",
      " 'player_y': 1,\n",
      " 'score': 0}\n",
      "\n",
      "['NOOP', 'FIRE', 'UP', 'DOWN', 'UPFIRE', 'DOWNFIRE']\n",
      "\n",
      "########## Frostbite-v4 ##########\n",
      "\n",
      "{'enemy_bear_x': 140,\n",
      " 'enemy_x_0': 0,\n",
      " 'enemy_x_1': 0,\n",
      " 'enemy_x_2': 0,\n",
      " 'enemy_x_3': 0,\n",
      " 'fourth_row_iceflow_x': 16,\n",
      " 'igloo_blocks_count': 255,\n",
      " 'num_lives': 3,\n",
      " 'player_direction': 6,\n",
      " 'player_x': 64,\n",
      " 'player_y': 27,\n",
      " 'score_0': 0,\n",
      " 'score_1': 0,\n",
      " 'score_2': 0,\n",
      " 'second_row_iceflow_x': 16,\n",
      " 'third_row_iceflow_x': 80,\n",
      " 'top_row_iceflow_x': 80}\n",
      "\n",
      "['NOOP',\n",
      " 'FIRE',\n",
      " 'UP',\n",
      " 'RIGHT',\n",
      " 'LEFT',\n",
      " 'DOWN',\n",
      " 'UPRIGHT',\n",
      " 'UPLEFT',\n",
      " 'DOWNRIGHT',\n",
      " 'DOWNLEFT',\n",
      " 'UPFIRE',\n",
      " 'RIGHTFIRE',\n",
      " 'LEFTFIRE',\n",
      " 'DOWNFIRE',\n",
      " 'UPRIGHTFIRE',\n",
      " 'UPLEFTFIRE',\n",
      " 'DOWNRIGHTFIRE',\n",
      " 'DOWNLEFTFIRE']\n",
      "\n",
      "########## MsPacman-v4 ##########\n",
      "\n",
      "{'dots_eaten_count': 0,\n",
      " 'enemy_blinky_x': 88,\n",
      " 'enemy_blinky_y': 50,\n",
      " 'enemy_inky_x': 88,\n",
      " 'enemy_inky_y': 80,\n",
      " 'enemy_pinky_x': 88,\n",
      " 'enemy_pinky_y': 80,\n",
      " 'enemy_sue_x': 88,\n",
      " 'enemy_sue_y': 80,\n",
      " 'fruit_x': 0,\n",
      " 'fruit_y': 0,\n",
      " 'ghosts_count': 3,\n",
      " 'num_lives': 2,\n",
      " 'player_direction': 3,\n",
      " 'player_score': 0,\n",
      " 'player_x': 88,\n",
      " 'player_y': 98}\n",
      "\n",
      "['NOOP',\n",
      " 'UP',\n",
      " 'RIGHT',\n",
      " 'LEFT',\n",
      " 'DOWN',\n",
      " 'UPRIGHT',\n",
      " 'UPLEFT',\n",
      " 'DOWNRIGHT',\n",
      " 'DOWNLEFT']\n",
      "\n",
      "########## Seaquest-v4 ##########\n",
      "\n",
      "{'diver_x_0': 0,\n",
      " 'diver_x_1': 0,\n",
      " 'diver_x_2': 0,\n",
      " 'diver_x_3': 0,\n",
      " 'divers_collected_count': 0,\n",
      " 'enemy_obstacle_x_0': 0,\n",
      " 'enemy_obstacle_x_1': 0,\n",
      " 'enemy_obstacle_x_2': 0,\n",
      " 'enemy_obstacle_x_3': 0,\n",
      " 'missile_direction': 0,\n",
      " 'missile_x': 0,\n",
      " 'num_lives': 3,\n",
      " 'oxygen_meter_value': 2,\n",
      " 'player_direction': 0,\n",
      " 'player_x': 76,\n",
      " 'player_y': 13,\n",
      " 'score_0': 0,\n",
      " 'score_1': 0}\n",
      "\n",
      "['NOOP',\n",
      " 'FIRE',\n",
      " 'UP',\n",
      " 'RIGHT',\n",
      " 'LEFT',\n",
      " 'DOWN',\n",
      " 'UPRIGHT',\n",
      " 'UPLEFT',\n",
      " 'DOWNRIGHT',\n",
      " 'DOWNLEFT',\n",
      " 'UPFIRE',\n",
      " 'RIGHTFIRE',\n",
      " 'LEFTFIRE',\n",
      " 'DOWNFIRE',\n",
      " 'UPRIGHTFIRE',\n",
      " 'UPLEFTFIRE',\n",
      " 'DOWNRIGHTFIRE',\n",
      " 'DOWNLEFTFIRE']\n",
      "\n",
      "########## Venture-v4 ##########\n",
      "\n",
      "{'current_room': 8,\n",
      " 'num_lives': 3,\n",
      " 'player_x': 68,\n",
      " 'player_y': 76,\n",
      " 'score_1_2': 0,\n",
      " 'score_3_4': 0,\n",
      " 'sprite0_x': 11,\n",
      " 'sprite0_y': 5,\n",
      " 'sprite1_x': 61,\n",
      " 'sprite1_y': 25,\n",
      " 'sprite2_x': 61,\n",
      " 'sprite2_y': 50,\n",
      " 'sprite3_x': 1,\n",
      " 'sprite3_y': 50,\n",
      " 'sprite4_x': 111,\n",
      " 'sprite4_y': 20,\n",
      " 'sprite5_x': 151,\n",
      " 'sprite5_y': 50}\n",
      "\n",
      "['NOOP',\n",
      " 'FIRE',\n",
      " 'UP',\n",
      " 'RIGHT',\n",
      " 'LEFT',\n",
      " 'DOWN',\n",
      " 'UPRIGHT',\n",
      " 'UPLEFT',\n",
      " 'DOWNRIGHT',\n",
      " 'DOWNLEFT',\n",
      " 'UPFIRE',\n",
      " 'RIGHTFIRE',\n",
      " 'LEFTFIRE',\n",
      " 'DOWNFIRE',\n",
      " 'UPRIGHTFIRE',\n",
      " 'UPLEFTFIRE',\n",
      " 'DOWNRIGHTFIRE',\n",
      " 'DOWNLEFTFIRE']\n",
      "\n",
      "########## Berzerk-v4 ##########\n",
      "\n",
      "{'enemy_evilOtto_x': 0,\n",
      " 'enemy_evilOtto_y': 0,\n",
      " 'enemy_robots_x_0': 0,\n",
      " 'enemy_robots_x_1': 0,\n",
      " 'enemy_robots_x_2': 0,\n",
      " 'enemy_robots_x_3': 0,\n",
      " 'enemy_robots_x_4': 0,\n",
      " 'enemy_robots_x_5': 0,\n",
      " 'enemy_robots_x_6': 0,\n",
      " 'enemy_robots_x_7': 0,\n",
      " 'enemy_robots_y_0': 127,\n",
      " 'enemy_robots_y_1': 0,\n",
      " 'enemy_robots_y_2': 0,\n",
      " 'enemy_robots_y_3': 0,\n",
      " 'enemy_robots_y_4': 0,\n",
      " 'enemy_robots_y_5': 0,\n",
      " 'enemy_robots_y_6': 0,\n",
      " 'enemy_robots_y_7': 0,\n",
      " 'enemy_robots_y_8': 127,\n",
      " 'game_level': 1,\n",
      " 'num_lives': 2,\n",
      " 'player_direction': 2,\n",
      " 'player_missile_direction': 0,\n",
      " 'player_missile_x': 0,\n",
      " 'player_missile_y': 0,\n",
      " 'player_score_0': 0,\n",
      " 'player_score_1': 0,\n",
      " 'player_score_2': 0,\n",
      " 'player_x': 0,\n",
      " 'player_y': 127,\n",
      " 'robot_missile_direction': 15,\n",
      " 'robot_missile_x': 0,\n",
      " 'robot_missile_y': 0,\n",
      " 'robots_killed_count': 0}\n",
      "\n",
      "['NOOP',\n",
      " 'FIRE',\n",
      " 'UP',\n",
      " 'RIGHT',\n",
      " 'LEFT',\n",
      " 'DOWN',\n",
      " 'UPRIGHT',\n",
      " 'UPLEFT',\n",
      " 'DOWNRIGHT',\n",
      " 'DOWNLEFT',\n",
      " 'UPFIRE',\n",
      " 'RIGHTFIRE',\n",
      " 'LEFTFIRE',\n",
      " 'DOWNFIRE',\n",
      " 'UPRIGHTFIRE',\n",
      " 'UPLEFTFIRE',\n",
      " 'DOWNRIGHTFIRE',\n",
      " 'DOWNLEFTFIRE']\n",
      "\n"
     ]
    },
    {
     "name": "stdout",
     "output_type": "stream",
     "text": [
      "########## Breakout-v4 ##########\n",
      "\n",
      "{'ball_x': 0,\n",
      " 'ball_y': 0,\n",
      " 'block_bit_map_0': 63,\n",
      " 'block_bit_map_1': 63,\n",
      " 'block_bit_map_10': 255,\n",
      " 'block_bit_map_11': 255,\n",
      " 'block_bit_map_12': 255,\n",
      " 'block_bit_map_13': 255,\n",
      " 'block_bit_map_14': 255,\n",
      " 'block_bit_map_15': 255,\n",
      " 'block_bit_map_16': 255,\n",
      " 'block_bit_map_17': 255,\n",
      " 'block_bit_map_18': 255,\n",
      " 'block_bit_map_19': 255,\n",
      " 'block_bit_map_2': 63,\n",
      " 'block_bit_map_20': 255,\n",
      " 'block_bit_map_21': 255,\n",
      " 'block_bit_map_22': 255,\n",
      " 'block_bit_map_23': 255,\n",
      " 'block_bit_map_24': 255,\n",
      " 'block_bit_map_25': 255,\n",
      " 'block_bit_map_26': 255,\n",
      " 'block_bit_map_27': 255,\n",
      " 'block_bit_map_28': 255,\n",
      " 'block_bit_map_29': 255,\n",
      " 'block_bit_map_3': 63,\n",
      " 'block_bit_map_4': 63,\n",
      " 'block_bit_map_5': 63,\n",
      " 'block_bit_map_6': 255,\n",
      " 'block_bit_map_7': 255,\n",
      " 'block_bit_map_8': 255,\n",
      " 'block_bit_map_9': 255,\n",
      " 'blocks_hit_count': 0,\n",
      " 'player_x': 146,\n",
      " 'score': 0}\n",
      "\n",
      "['NOOP', 'FIRE', 'RIGHT', 'LEFT']\n",
      "\n",
      "########## Asteroids-v4 ##########\n",
      "\n",
      "{'enemy_asteroids_x_0': 71,\n",
      " 'enemy_asteroids_x_1': 135,\n",
      " 'enemy_asteroids_x_10': 0,\n",
      " 'enemy_asteroids_x_11': 0,\n",
      " 'enemy_asteroids_x_12': 0,\n",
      " 'enemy_asteroids_x_13': 0,\n",
      " 'enemy_asteroids_x_14': 0,\n",
      " 'enemy_asteroids_x_2': 71,\n",
      " 'enemy_asteroids_x_3': 0,\n",
      " 'enemy_asteroids_x_4': 0,\n",
      " 'enemy_asteroids_x_5': 0,\n",
      " 'enemy_asteroids_x_6': 0,\n",
      " 'enemy_asteroids_x_7': 22,\n",
      " 'enemy_asteroids_x_8': 54,\n",
      " 'enemy_asteroids_x_9': 0,\n",
      " 'enemy_asteroids_y_0': 255,\n",
      " 'enemy_asteroids_y_1': 61,\n",
      " 'enemy_asteroids_y_10': 0,\n",
      " 'enemy_asteroids_y_11': 0,\n",
      " 'enemy_asteroids_y_12': 0,\n",
      " 'enemy_asteroids_y_13': 0,\n",
      " 'enemy_asteroids_y_14': 0,\n",
      " 'enemy_asteroids_y_2': 88,\n",
      " 'enemy_asteroids_y_3': 224,\n",
      " 'enemy_asteroids_y_4': 0,\n",
      " 'enemy_asteroids_y_5': 0,\n",
      " 'enemy_asteroids_y_6': 0,\n",
      " 'enemy_asteroids_y_7': 3,\n",
      " 'enemy_asteroids_y_8': 65,\n",
      " 'enemy_asteroids_y_9': 224,\n",
      " 'num_lives_direction': 64,\n",
      " 'player_missile1_direction': 0,\n",
      " 'player_missile2_direction': 80,\n",
      " 'player_missile_x1': 228,\n",
      " 'player_missile_x2': 29,\n",
      " 'player_missile_y1': 224,\n",
      " 'player_missile_y2': 36,\n",
      " 'player_score_high': 0,\n",
      " 'player_score_low': 0,\n",
      " 'player_x': 4,\n",
      " 'player_y': 224}\n",
      "\n",
      "['NOOP',\n",
      " 'FIRE',\n",
      " 'UP',\n",
      " 'RIGHT',\n",
      " 'LEFT',\n",
      " 'DOWN',\n",
      " 'UPRIGHT',\n",
      " 'UPLEFT',\n",
      " 'UPFIRE',\n",
      " 'RIGHTFIRE',\n",
      " 'LEFTFIRE',\n",
      " 'DOWNFIRE',\n",
      " 'UPRIGHTFIRE',\n",
      " 'UPLEFTFIRE']\n",
      "\n"
     ]
    }
   ],
   "source": [
    "for env_name, n in sorted(n_inputs.items(), key=lambda x: x[1]):\n",
    "    env = AtariARIWrapper(gym.make(env_name))\n",
    "    obs = env.reset()\n",
    "    obs, reward, done, info = env.step(env.action_space.sample())\n",
    "    \n",
    "    print('#' * 10, f'{env_name}', '#' * 10)\n",
    "    print()\n",
    "    pprint.pprint(info['labels'])\n",
    "    print()\n",
    "    pprint.pprint(env.unwrapped.get_action_meanings())\n",
    "    print()"
   ]
  },
  {
   "cell_type": "markdown",
   "metadata": {},
   "source": [
    "### Pitfall"
   ]
  },
  {
   "cell_type": "code",
   "execution_count": 19,
   "metadata": {},
   "outputs": [],
   "source": [
    "env = AtariARIWrapper(gym.make('Pitfall-v4'))\n",
    "obs = env.reset()\n",
    "obs, reward, done, info = env.step(env.action_space.sample())"
   ]
  },
  {
   "cell_type": "code",
   "execution_count": 20,
   "metadata": {
    "scrolled": false
   },
   "outputs": [
    {
     "data": {
      "text/plain": [
       "{'ale.lives': 3,\n",
       " 'labels': {'player_x': 16,\n",
       "  'player_y': 28,\n",
       "  'enemy_logs_x': 124,\n",
       "  'enemy_scorpion_x': 136,\n",
       "  'bottom_of_rope_y': 10}}"
      ]
     },
     "execution_count": 20,
     "metadata": {},
     "output_type": "execute_result"
    }
   ],
   "source": [
    "info"
   ]
  },
  {
   "cell_type": "code",
   "execution_count": 21,
   "metadata": {
    "scrolled": true
   },
   "outputs": [
    {
     "data": {
      "text/plain": [
       "['NOOP',\n",
       " 'FIRE',\n",
       " 'UP',\n",
       " 'RIGHT',\n",
       " 'LEFT',\n",
       " 'DOWN',\n",
       " 'UPRIGHT',\n",
       " 'UPLEFT',\n",
       " 'DOWNRIGHT',\n",
       " 'DOWNLEFT',\n",
       " 'UPFIRE',\n",
       " 'RIGHTFIRE',\n",
       " 'LEFTFIRE',\n",
       " 'DOWNFIRE',\n",
       " 'UPRIGHTFIRE',\n",
       " 'UPLEFTFIRE',\n",
       " 'DOWNRIGHTFIRE',\n",
       " 'DOWNLEFTFIRE']"
      ]
     },
     "execution_count": 21,
     "metadata": {},
     "output_type": "execute_result"
    }
   ],
   "source": [
    "env.unwrapped.get_action_meanings()"
   ]
  },
  {
   "cell_type": "markdown",
   "metadata": {},
   "source": [
    "### Qbert"
   ]
  },
  {
   "cell_type": "code",
   "execution_count": 22,
   "metadata": {},
   "outputs": [],
   "source": [
    "env = AtariARIWrapper(gym.make('Qbert-v4'))\n",
    "obs = env.reset()\n",
    "obs, reward, done, info = env.step(env.action_space.sample())"
   ]
  },
  {
   "cell_type": "code",
   "execution_count": 23,
   "metadata": {
    "scrolled": false
   },
   "outputs": [
    {
     "data": {
      "text/plain": [
       "{'ale.lives': 4,\n",
       " 'labels': {'player_x': 0,\n",
       "  'player_y': 0,\n",
       "  'player_column': 0,\n",
       "  'red_enemy_column': 0,\n",
       "  'green_enemy_column': 1}}"
      ]
     },
     "execution_count": 23,
     "metadata": {},
     "output_type": "execute_result"
    }
   ],
   "source": [
    "info"
   ]
  },
  {
   "cell_type": "code",
   "execution_count": 24,
   "metadata": {
    "scrolled": true
   },
   "outputs": [
    {
     "data": {
      "text/plain": [
       "['NOOP', 'FIRE', 'UP', 'RIGHT', 'LEFT', 'DOWN']"
      ]
     },
     "execution_count": 24,
     "metadata": {},
     "output_type": "execute_result"
    }
   ],
   "source": [
    "env.unwrapped.get_action_meanings()"
   ]
  },
  {
   "cell_type": "markdown",
   "metadata": {},
   "source": [
    "### Riverraid"
   ]
  },
  {
   "cell_type": "code",
   "execution_count": 25,
   "metadata": {},
   "outputs": [],
   "source": [
    "env = AtariARIWrapper(gym.make('Riverraid-v4'))\n",
    "obs = env.reset()\n",
    "obs, reward, done, info = env.step(env.action_space.sample())"
   ]
  },
  {
   "cell_type": "code",
   "execution_count": 26,
   "metadata": {
    "scrolled": false
   },
   "outputs": [
    {
     "data": {
      "text/plain": [
       "{'ale.lives': 4,\n",
       " 'labels': {'player_x': 76,\n",
       "  'missile_x': 0,\n",
       "  'missile_y': 180,\n",
       "  'fuel_meter_high': 255,\n",
       "  'fuel_meter_low': 255}}"
      ]
     },
     "execution_count": 26,
     "metadata": {},
     "output_type": "execute_result"
    }
   ],
   "source": [
    "info"
   ]
  },
  {
   "cell_type": "code",
   "execution_count": 27,
   "metadata": {
    "scrolled": true
   },
   "outputs": [
    {
     "data": {
      "text/plain": [
       "['NOOP',\n",
       " 'FIRE',\n",
       " 'UP',\n",
       " 'RIGHT',\n",
       " 'LEFT',\n",
       " 'DOWN',\n",
       " 'UPRIGHT',\n",
       " 'UPLEFT',\n",
       " 'DOWNRIGHT',\n",
       " 'DOWNLEFT',\n",
       " 'UPFIRE',\n",
       " 'RIGHTFIRE',\n",
       " 'LEFTFIRE',\n",
       " 'DOWNFIRE',\n",
       " 'UPRIGHTFIRE',\n",
       " 'UPLEFTFIRE',\n",
       " 'DOWNRIGHTFIRE',\n",
       " 'DOWNLEFTFIRE']"
      ]
     },
     "execution_count": 27,
     "metadata": {},
     "output_type": "execute_result"
    }
   ],
   "source": [
    "env.unwrapped.get_action_meanings()"
   ]
  },
  {
   "cell_type": "markdown",
   "metadata": {},
   "source": [
    "### Video Pinball"
   ]
  },
  {
   "cell_type": "code",
   "execution_count": 28,
   "metadata": {},
   "outputs": [],
   "source": [
    "env = AtariARIWrapper(gym.make('VideoPinball-v4'))\n",
    "obs = env.reset()\n",
    "obs, reward, done, info = env.step(env.action_space.sample())"
   ]
  },
  {
   "cell_type": "code",
   "execution_count": 29,
   "metadata": {
    "scrolled": false
   },
   "outputs": [
    {
     "data": {
      "text/plain": [
       "{'ale.lives': 3,\n",
       " 'labels': {'ball_x': 149,\n",
       "  'ball_y': 132,\n",
       "  'player_left_paddle_y': 32,\n",
       "  'player_right_paddle_y': 128,\n",
       "  'score_1': 0,\n",
       "  'score_2': 0}}"
      ]
     },
     "execution_count": 29,
     "metadata": {},
     "output_type": "execute_result"
    }
   ],
   "source": [
    "info"
   ]
  },
  {
   "cell_type": "code",
   "execution_count": 30,
   "metadata": {
    "scrolled": true
   },
   "outputs": [
    {
     "data": {
      "text/plain": [
       "['NOOP',\n",
       " 'FIRE',\n",
       " 'UP',\n",
       " 'RIGHT',\n",
       " 'LEFT',\n",
       " 'DOWN',\n",
       " 'UPFIRE',\n",
       " 'RIGHTFIRE',\n",
       " 'LEFTFIRE']"
      ]
     },
     "execution_count": 30,
     "metadata": {},
     "output_type": "execute_result"
    }
   ],
   "source": [
    "env.unwrapped.get_action_meanings()"
   ]
  },
  {
   "cell_type": "markdown",
   "metadata": {},
   "source": [
    "### Boxing"
   ]
  },
  {
   "cell_type": "code",
   "execution_count": 31,
   "metadata": {},
   "outputs": [],
   "source": [
    "env = AtariARIWrapper(gym.make('Boxing-v4'))\n",
    "obs = env.reset()\n",
    "obs, reward, done, info = env.step(env.action_space.sample())"
   ]
  },
  {
   "cell_type": "code",
   "execution_count": 32,
   "metadata": {
    "scrolled": false
   },
   "outputs": [
    {
     "data": {
      "text/plain": [
       "{'ale.lives': 0,\n",
       " 'labels': {'player_x': 30,\n",
       "  'player_y': 4,\n",
       "  'enemy_x': 106,\n",
       "  'enemy_y': 84,\n",
       "  'enemy_score': 0,\n",
       "  'clock': 89,\n",
       "  'player_score': 0}}"
      ]
     },
     "execution_count": 32,
     "metadata": {},
     "output_type": "execute_result"
    }
   ],
   "source": [
    "info"
   ]
  },
  {
   "cell_type": "code",
   "execution_count": 33,
   "metadata": {
    "scrolled": false
   },
   "outputs": [
    {
     "data": {
      "text/plain": [
       "['NOOP',\n",
       " 'FIRE',\n",
       " 'UP',\n",
       " 'RIGHT',\n",
       " 'LEFT',\n",
       " 'DOWN',\n",
       " 'UPRIGHT',\n",
       " 'UPLEFT',\n",
       " 'DOWNRIGHT',\n",
       " 'DOWNLEFT',\n",
       " 'UPFIRE',\n",
       " 'RIGHTFIRE',\n",
       " 'LEFTFIRE',\n",
       " 'DOWNFIRE',\n",
       " 'UPRIGHTFIRE',\n",
       " 'UPLEFTFIRE',\n",
       " 'DOWNRIGHTFIRE',\n",
       " 'DOWNLEFTFIRE']"
      ]
     },
     "execution_count": 33,
     "metadata": {},
     "output_type": "execute_result"
    }
   ],
   "source": [
    "env.unwrapped.get_action_meanings()"
   ]
  },
  {
   "cell_type": "markdown",
   "metadata": {},
   "source": [
    "### Space Invaders"
   ]
  },
  {
   "cell_type": "code",
   "execution_count": 34,
   "metadata": {},
   "outputs": [],
   "source": [
    "env = AtariARIWrapper(gym.make('SpaceInvaders-v4'))\n",
    "obs = env.reset()\n",
    "obs, reward, done, info = env.step(env.action_space.sample())"
   ]
  },
  {
   "cell_type": "code",
   "execution_count": 35,
   "metadata": {
    "scrolled": false
   },
   "outputs": [
    {
     "data": {
      "text/plain": [
       "{'ale.lives': 3,\n",
       " 'labels': {'invaders_left_count': 36,\n",
       "  'player_score': 0,\n",
       "  'num_lives': 254,\n",
       "  'player_x': 35,\n",
       "  'enemies_x': 23,\n",
       "  'missiles_y': 13,\n",
       "  'enemies_y': 82}}"
      ]
     },
     "execution_count": 35,
     "metadata": {},
     "output_type": "execute_result"
    }
   ],
   "source": [
    "info"
   ]
  },
  {
   "cell_type": "code",
   "execution_count": 36,
   "metadata": {
    "scrolled": true
   },
   "outputs": [
    {
     "data": {
      "text/plain": [
       "['NOOP', 'FIRE', 'RIGHT', 'LEFT', 'RIGHTFIRE', 'LEFTFIRE']"
      ]
     },
     "execution_count": 36,
     "metadata": {},
     "output_type": "execute_result"
    }
   ],
   "source": [
    "env.unwrapped.get_action_meanings()"
   ]
  },
  {
   "cell_type": "markdown",
   "metadata": {},
   "source": [
    "### Hero"
   ]
  },
  {
   "cell_type": "code",
   "execution_count": 37,
   "metadata": {},
   "outputs": [],
   "source": [
    "env = AtariARIWrapper(gym.make('Hero-v4'))\n",
    "obs = env.reset()\n",
    "obs, reward, done, info = env.step(env.action_space.sample())"
   ]
  },
  {
   "cell_type": "code",
   "execution_count": 38,
   "metadata": {
    "scrolled": false
   },
   "outputs": [
    {
     "data": {
      "text/plain": [
       "{'ale.lives': 4,\n",
       " 'labels': {'player_x': 32,\n",
       "  'player_y': 136,\n",
       "  'power_meter': 0,\n",
       "  'room_number': 0,\n",
       "  'level_number': 0,\n",
       "  'dynamite_count': 6,\n",
       "  'score_0': 0,\n",
       "  'score_1': 0}}"
      ]
     },
     "execution_count": 38,
     "metadata": {},
     "output_type": "execute_result"
    }
   ],
   "source": [
    "info"
   ]
  },
  {
   "cell_type": "code",
   "execution_count": 39,
   "metadata": {
    "scrolled": true
   },
   "outputs": [
    {
     "data": {
      "text/plain": [
       "['NOOP',\n",
       " 'FIRE',\n",
       " 'UP',\n",
       " 'RIGHT',\n",
       " 'LEFT',\n",
       " 'DOWN',\n",
       " 'UPRIGHT',\n",
       " 'UPLEFT',\n",
       " 'DOWNRIGHT',\n",
       " 'DOWNLEFT',\n",
       " 'UPFIRE',\n",
       " 'RIGHTFIRE',\n",
       " 'LEFTFIRE',\n",
       " 'DOWNFIRE',\n",
       " 'UPRIGHTFIRE',\n",
       " 'UPLEFTFIRE',\n",
       " 'DOWNRIGHTFIRE',\n",
       " 'DOWNLEFTFIRE']"
      ]
     },
     "execution_count": 39,
     "metadata": {},
     "output_type": "execute_result"
    }
   ],
   "source": [
    "env.unwrapped.get_action_meanings()"
   ]
  },
  {
   "cell_type": "markdown",
   "metadata": {},
   "source": [
    "### Pong"
   ]
  },
  {
   "cell_type": "code",
   "execution_count": 40,
   "metadata": {},
   "outputs": [],
   "source": [
    "env = AtariARIWrapper(gym.make('Pong-v4'))\n",
    "obs = env.reset()\n",
    "obs, reward, done, info = env.step(env.action_space.sample())"
   ]
  },
  {
   "cell_type": "code",
   "execution_count": 41,
   "metadata": {},
   "outputs": [
    {
     "data": {
      "text/plain": [
       "{'ale.lives': 0,\n",
       " 'labels': {'player_y': 109,\n",
       "  'player_x': 188,\n",
       "  'enemy_y': 16,\n",
       "  'enemy_x': 64,\n",
       "  'ball_x': 0,\n",
       "  'ball_y': 0,\n",
       "  'enemy_score': 0,\n",
       "  'player_score': 0}}"
      ]
     },
     "execution_count": 41,
     "metadata": {},
     "output_type": "execute_result"
    }
   ],
   "source": [
    "info"
   ]
  },
  {
   "cell_type": "code",
   "execution_count": 42,
   "metadata": {
    "scrolled": true
   },
   "outputs": [
    {
     "data": {
      "text/plain": [
       "['NOOP', 'FIRE', 'RIGHT', 'LEFT', 'RIGHTFIRE', 'LEFTFIRE']"
      ]
     },
     "execution_count": 42,
     "metadata": {},
     "output_type": "execute_result"
    }
   ],
   "source": [
    "env.unwrapped.get_action_meanings()"
   ]
  },
  {
   "cell_type": "markdown",
   "metadata": {},
   "source": [
    "### Pong"
   ]
  },
  {
   "cell_type": "code",
   "execution_count": 40,
   "metadata": {},
   "outputs": [],
   "source": [
    "env = AtariARIWrapper(gym.make('Pong-v4'))\n",
    "obs = env.reset()\n",
    "obs, reward, done, info = env.step(env.action_space.sample())"
   ]
  },
  {
   "cell_type": "code",
   "execution_count": 41,
   "metadata": {},
   "outputs": [
    {
     "data": {
      "text/plain": [
       "{'ale.lives': 0,\n",
       " 'labels': {'player_y': 109,\n",
       "  'player_x': 188,\n",
       "  'enemy_y': 16,\n",
       "  'enemy_x': 64,\n",
       "  'ball_x': 0,\n",
       "  'ball_y': 0,\n",
       "  'enemy_score': 0,\n",
       "  'player_score': 0}}"
      ]
     },
     "execution_count": 41,
     "metadata": {},
     "output_type": "execute_result"
    }
   ],
   "source": [
    "info"
   ]
  },
  {
   "cell_type": "code",
   "execution_count": 42,
   "metadata": {
    "scrolled": true
   },
   "outputs": [
    {
     "data": {
      "text/plain": [
       "['NOOP', 'FIRE', 'RIGHT', 'LEFT', 'RIGHTFIRE', 'LEFTFIRE']"
      ]
     },
     "execution_count": 42,
     "metadata": {},
     "output_type": "execute_result"
    }
   ],
   "source": [
    "env.unwrapped.get_action_meanings()"
   ]
  },
  {
   "cell_type": "markdown",
   "metadata": {},
   "source": [
    "## Breakout"
   ]
  },
  {
   "cell_type": "code",
   "execution_count": 60,
   "metadata": {},
   "outputs": [],
   "source": [
    "env = AtariARIWrapper(gym.make('BreakoutNoFrameskip-v4'))\n",
    "obs = env.reset()\n",
    "obs, reward, done, info = env.step(env.action_space.sample())"
   ]
  },
  {
   "cell_type": "code",
   "execution_count": 61,
   "metadata": {},
   "outputs": [
    {
     "data": {
      "text/plain": [
       "{'ale.lives': 5,\n",
       " 'labels': {'ball_x': 127,\n",
       "  'ball_y': 113,\n",
       "  'player_x': 146,\n",
       "  'blocks_hit_count': 0,\n",
       "  'score': 0,\n",
       "  'block_bit_map_0': 63,\n",
       "  'block_bit_map_1': 63,\n",
       "  'block_bit_map_2': 63,\n",
       "  'block_bit_map_3': 63,\n",
       "  'block_bit_map_4': 63,\n",
       "  'block_bit_map_5': 63,\n",
       "  'block_bit_map_6': 255,\n",
       "  'block_bit_map_7': 255,\n",
       "  'block_bit_map_8': 255,\n",
       "  'block_bit_map_9': 255,\n",
       "  'block_bit_map_10': 255,\n",
       "  'block_bit_map_11': 255,\n",
       "  'block_bit_map_12': 255,\n",
       "  'block_bit_map_13': 255,\n",
       "  'block_bit_map_14': 255,\n",
       "  'block_bit_map_15': 255,\n",
       "  'block_bit_map_16': 255,\n",
       "  'block_bit_map_17': 255,\n",
       "  'block_bit_map_18': 255,\n",
       "  'block_bit_map_19': 255,\n",
       "  'block_bit_map_20': 255,\n",
       "  'block_bit_map_21': 255,\n",
       "  'block_bit_map_22': 255,\n",
       "  'block_bit_map_23': 255,\n",
       "  'block_bit_map_24': 255,\n",
       "  'block_bit_map_25': 255,\n",
       "  'block_bit_map_26': 255,\n",
       "  'block_bit_map_27': 255,\n",
       "  'block_bit_map_28': 255,\n",
       "  'block_bit_map_29': 255}}"
      ]
     },
     "execution_count": 61,
     "metadata": {},
     "output_type": "execute_result"
    }
   ],
   "source": [
    "info"
   ]
  },
  {
   "cell_type": "code",
   "execution_count": 62,
   "metadata": {},
   "outputs": [
    {
     "data": {
      "text/plain": [
       "['NOOP', 'FIRE', 'RIGHT', 'LEFT']"
      ]
     },
     "execution_count": 62,
     "metadata": {},
     "output_type": "execute_result"
    }
   ],
   "source": [
    "env.unwrapped.get_action_meanings()"
   ]
  },
  {
   "cell_type": "code",
   "execution_count": null,
   "metadata": {},
   "outputs": [],
   "source": []
  }
 ],
 "metadata": {
  "kernelspec": {
   "display_name": "Python 3",
   "language": "python",
   "name": "python3"
  },
  "language_info": {
   "codemirror_mode": {
    "name": "ipython",
    "version": 3
   },
   "file_extension": ".py",
   "mimetype": "text/x-python",
   "name": "python",
   "nbconvert_exporter": "python",
   "pygments_lexer": "ipython3",
   "version": "3.6.9"
  }
 },
 "nbformat": 4,
 "nbformat_minor": 2
}
